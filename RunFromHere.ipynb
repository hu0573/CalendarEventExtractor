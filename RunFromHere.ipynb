{
 "cells": [
  {
   "cell_type": "markdown",
   "id": "ec2849ba-53fb-41fa-adbe-51ffdbcaa41d",
   "metadata": {},
   "source": [
    "Apply a key https://aistudio.google.com/apikey"
   ]
  },
  {
   "cell_type": "code",
   "execution_count": null,
   "id": "510663e6-eba7-4029-badd-456164aca5e1",
   "metadata": {},
   "outputs": [],
   "source": [
    "from API import API\n",
    "import calendar_utils\n",
    "from IPython.display import clear_output"
   ]
  },
  {
   "cell_type": "code",
   "execution_count": null,
   "id": "c16fcaf0-2ac1-4d35-92e9-37e328adfc7d",
   "metadata": {},
   "outputs": [],
   "source": [
    "api = API(\n",
    "    gemini_api_key=\"Your API key\",\n",
    "    location=\"Adelaide\",\n",
    "    language=\"English\",\n",
    ")"
   ]
  },
  {
   "cell_type": "code",
   "execution_count": null,
   "id": "4d98ad88-5397-47b5-8764-0b512f159546",
   "metadata": {},
   "outputs": [],
   "source": [
    "text = input(\"Copy and pase your event info here\")\n",
    "clear_output()\n",
    "event = api.extract_event(text)\n",
    "calendar_utils.generate_ics(event)"
   ]
  },
  {
   "cell_type": "code",
   "execution_count": null,
   "id": "863da0ce-fb99-4588-97ce-d53781c42424",
   "metadata": {},
   "outputs": [],
   "source": []
  }
 ],
 "metadata": {
  "kernelspec": {
   "display_name": "Python 3 (ipykernel)",
   "language": "python",
   "name": "python3"
  },
  "language_info": {
   "codemirror_mode": {
    "name": "ipython",
    "version": 3
   },
   "file_extension": ".py",
   "mimetype": "text/x-python",
   "name": "python",
   "nbconvert_exporter": "python",
   "pygments_lexer": "ipython3",
   "version": "3.10.12"
  }
 },
 "nbformat": 4,
 "nbformat_minor": 5
}
